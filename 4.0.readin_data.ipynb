{
 "cells": [
  {
   "cell_type": "code",
   "execution_count": 1,
   "metadata": {},
   "outputs": [],
   "source": [
    "import json\n",
    "\n",
    "\n",
    "def init():\n",
    "    f = open('./CAIL_data/law.txt', 'r', encoding = 'utf8')\n",
    "    law = {}\n",
    "    lawname = {}\n",
    "    line = f.readline()\n",
    "    while line:\n",
    "        lawname[len(law)] = line.strip()\n",
    "        law[line.strip()] = len(law)\n",
    "        line = f.readline()\n",
    "    f.close()\n",
    "\n",
    "\n",
    "    f = open('./CAIL_data/accu.txt', 'r', encoding = 'utf8')\n",
    "    accu = {}\n",
    "    accuname = {}\n",
    "    line = f.readline()\n",
    "    while line:\n",
    "        accuname[len(accu)] = line.strip()\n",
    "        accu[line.strip()] = len(accu)\n",
    "        line = f.readline()\n",
    "    f.close()\n",
    "\n",
    "\n",
    "    return law, accu, lawname, accuname\n",
    "\n",
    "\n",
    "law, accu, lawname, accuname = init()"
   ]
  },
  {
   "cell_type": "code",
   "execution_count": 2,
   "metadata": {},
   "outputs": [],
   "source": [
    "def getClassNum(kind):\n",
    "    global law\n",
    "    global accu\n",
    "\n",
    "    if kind == 'law':\n",
    "        return len(law)\n",
    "    if kind == 'accu':\n",
    "        return len(accu)"
   ]
  },
  {
   "cell_type": "code",
   "execution_count": 3,
   "metadata": {},
   "outputs": [],
   "source": [
    "def getName(index, kind):\n",
    "    global lawname\n",
    "    global accuname\n",
    "    if kind == 'law':\n",
    "        return lawname[index]\n",
    "\n",
    "    if kind == 'accu':\n",
    "        return accuname[index]\n",
    "\n",
    "\n",
    "def gettime(time):\n",
    "    #将刑期用分类模型来做\n",
    "    v = int(time['imprisonment'])\n",
    "\n",
    "    if time['death_penalty']:\n",
    "        return 0\n",
    "    if time['life_imprisonment']:\n",
    "        return 1\n",
    "    elif v > 10 * 12:\n",
    "        return 2\n",
    "    elif v > 7 * 12:\n",
    "        return 3\n",
    "    elif v > 5 * 12:\n",
    "        return 4\n",
    "    elif v > 3 * 12:\n",
    "        return 5\n",
    "    elif v > 2 * 12:\n",
    "        return 6\n",
    "    elif v > 1 * 12:\n",
    "        return 7\n",
    "    else:\n",
    "        return 8\n",
    "\n",
    "\n",
    "def getlabel(d, kind):\n",
    "    global law\n",
    "    global accu    \n",
    "    # 做单标签\n",
    "    if kind == 'law':\n",
    "    # 返回多个类的第一个\n",
    "#         return law[str(d['meta']['relevant_articles'])]\n",
    "        return str(d['meta']['relevant_articles'])\n",
    "    if kind == 'accu':\n",
    "#         return accu[d['meta']['accusation']]\n",
    "        return d['meta']['accusation']\n",
    "    if kind == 'time':\n",
    "#         return gettime(d['meta']['term_of_imprisonment'])\n",
    "        return gettime(d['meta']['term_of_imprisonment'])\n",
    "    \n",
    "    return label\n",
    "    \n"
   ]
  },
  {
   "cell_type": "code",
   "execution_count": 4,
   "metadata": {},
   "outputs": [],
   "source": [
    "def read_trainData(path):\n",
    "    fin = open(path, 'r', encoding = 'utf8')\n",
    "    \n",
    "    alltext = []\n",
    "    \n",
    "    accu_label = []\n",
    "    law_label = []\n",
    "    time_label = []\n",
    "\n",
    "    line = fin.readline()\n",
    "    while line:\n",
    "        d = json.loads(line)\n",
    "        alltext.append(d['fact'])\n",
    "        accu_label.append(getlabel(d, 'accu'))\n",
    "        law_label.append(getlabel(d, 'law'))\n",
    "        time_label.append(getlabel(d, 'time'))\n",
    "        line = fin.readline()\n",
    "    fin.close()\n",
    "\n",
    "    return alltext, accu_label, law_label, time_label"
   ]
  },
  {
   "cell_type": "code",
   "execution_count": 6,
   "metadata": {},
   "outputs": [],
   "source": [
    "alltext, accu_label, law_label, time_label = read_trainData('./cail2018_big/cail2018_big.json')"
   ]
  },
  {
   "cell_type": "code",
   "execution_count": 9,
   "metadata": {},
   "outputs": [
    {
     "name": "stderr",
     "output_type": "stream",
     "text": [
      "Building prefix dict from the default dictionary ...\n",
      "Loading model from cache /tmp/jieba.cache\n",
      "Loading model cost 1.019 seconds.\n",
      "Prefix dict has been built succesfully.\n"
     ]
    }
   ],
   "source": [
    "fact = []\n",
    "content = alltext\n",
    "import jieba\n",
    "for text in content:\n",
    "    fact.append(' '.join(jieba.cut(text)))"
   ]
  },
  {
   "cell_type": "code",
   "execution_count": 13,
   "metadata": {},
   "outputs": [
    {
     "data": {
      "text/plain": [
       "(1710856, 1710856, 1710856, 1710856)"
      ]
     },
     "execution_count": 13,
     "metadata": {},
     "output_type": "execute_result"
    }
   ],
   "source": [
    "len(fact), len(accu_label), len(law_label), len(time_label)"
   ]
  },
  {
   "cell_type": "code",
   "execution_count": 20,
   "metadata": {},
   "outputs": [],
   "source": [
    "import pickle\n",
    "\n",
    "pickle.dump(fact, open('facts.pkl', 'wb'))\n",
    "facts2 = pickle.load(open('facts.pkl', 'rb'))\n",
    "\n",
    "pickle.dump(accu_label, open('accu_label.pkl', 'wb'))\n",
    "accu_label2 = pickle.load(open('accu_label.pkl', 'rb'))\n",
    "\n",
    "pickle.dump(law_label, open('law_label.pkl', 'wb'))\n",
    "law_label2 = pickle.load(open('law_label.pkl', 'rb'))\n",
    "\n",
    "pickle.dump(accu_label, open('time_label.pkl', 'wb'))\n",
    "time_label2 = pickle.load(open('time_label.pkl', 'rb'))"
   ]
  },
  {
   "cell_type": "code",
   "execution_count": 50,
   "metadata": {},
   "outputs": [],
   "source": [
    "import re\n",
    "\n",
    "law_label3 = [re.sub('[\\[\\]\\' ]+', '',law_label2[i]).split(',') for i in range(len(law_label2))]\n"
   ]
  },
  {
   "cell_type": "code",
   "execution_count": 57,
   "metadata": {},
   "outputs": [],
   "source": [
    "pickle.dump(law_label3, open('law_label.pkl', 'wb'))\n",
    "law_label4 = pickle.load(open('law_label.pkl', 'rb'))"
   ]
  },
  {
   "cell_type": "code",
   "execution_count": 62,
   "metadata": {},
   "outputs": [
    {
     "data": {
      "text/plain": [
       "(1710856, 1710856, 1710856, 1710856)"
      ]
     },
     "execution_count": 62,
     "metadata": {},
     "output_type": "execute_result"
    }
   ],
   "source": [
    "len(facts2), len(accu_label2), len(law_label4), len(time_label2)"
   ]
  }
 ],
 "metadata": {
  "kernelspec": {
   "display_name": "Python 3",
   "language": "python",
   "name": "python3"
  },
  "language_info": {
   "codemirror_mode": {
    "name": "ipython",
    "version": 3
   },
   "file_extension": ".py",
   "mimetype": "text/x-python",
   "name": "python",
   "nbconvert_exporter": "python",
   "pygments_lexer": "ipython3",
   "version": "3.6.4"
  }
 },
 "nbformat": 4,
 "nbformat_minor": 2
}
